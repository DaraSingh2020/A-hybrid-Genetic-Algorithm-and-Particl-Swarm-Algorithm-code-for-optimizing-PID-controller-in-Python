{
 "cells": [
  {
   "cell_type": "code",
   "execution_count": 1,
   "metadata": {},
   "outputs": [],
   "source": [
    "import IPython as IP\n",
    "IP.get_ipython().magic('reset -sf')\n",
    "import numpy as np\n",
    "import matplotlib.pyplot as plt\n",
    "import control\n",
    "from control import *"
   ]
  },
  {
   "cell_type": "code",
   "execution_count": 2,
   "metadata": {},
   "outputs": [],
   "source": [
    "def BioPlant_GR_TF():\n",
    "    A_gr=[[0,-0.068],[-0.75,-0.1302]]\n",
    "    B_gr=[[-0.9951],[2.4878]]\n",
    "    C_gr=[1,0]\n",
    "    D_gr=[0]\n",
    "    TF_gr=control.ss2tf(A_gr, B_gr, C_gr, D_gr)\n",
    "    return TF_gr"
   ]
  },
  {
   "cell_type": "code",
   "execution_count": 3,
   "metadata": {},
   "outputs": [],
   "source": [
    "def BioPlant_ST_TF():\n",
    "    A_st=[[0, 0.9056], [-0.75, -2.564]]\n",
    "    B_st=[[-1.5301],[3.8255]]\n",
    "    C_st=[1,0]\n",
    "    D_st=[0]\n",
    "    TF_st=control.ss2tf(A_st, B_st, C_st, D_st)\n",
    "    return TF_st"
   ]
  },
  {
   "cell_type": "code",
   "execution_count": 4,
   "metadata": {},
   "outputs": [],
   "source": [
    "def Result_Plotter(Time,yout):\n",
    "    plt.plot(Time, yout)\n",
    "    plt.xlabel('Time [s]')\n",
    "    plt.ylabel('Amplitude')\n",
    "    plt.title('Step response for BioPlant controller')\n",
    "    plt.grid()"
   ]
  },
  {
   "cell_type": "code",
   "execution_count": 5,
   "metadata": {},
   "outputs": [],
   "source": [
    "def PID_TF_Generator(D,P,I):\n",
    "    PID_Num=[D,P,I]\n",
    "    PID_Den=[1,0]\n",
    "    PID_TF=control.tf(PID_Num,PID_Den)\n",
    "    return PID_TF"
   ]
  },
  {
   "cell_type": "code",
   "execution_count": 6,
   "metadata": {},
   "outputs": [],
   "source": [
    "def PID_Plant_Response(PID_TF,TF_gr):\n",
    "    FeedBack = feedback(PID_TF*TF_gr,1)\n",
    "    Time=list(np.arange(0,40,0.1))\n",
    "    Time, yout = control.step_response(sys=FeedBack,T=Time,X0=0)\n",
    "    return Time,yout"
   ]
  },
  {
   "cell_type": "code",
   "execution_count": 7,
   "metadata": {},
   "outputs": [],
   "source": [
    "def BioPlant_Error_Generator(D,P,I):\n",
    "    TF_gr=BioPlant_GR_TF()\n",
    "    w1=5\n",
    "    w2=5\n",
    "    w3=1\n",
    "    w4=1\n",
    "    w5=4\n",
    "    w6=0\n",
    "\n",
    "    PID_TF=PID_TF_Generator(D,P,I)\n",
    "    Time,yout=PID_Plant_Response(PID_TF,TF_gr)\n",
    "\n",
    "    Yout_np=np.array(yout.copy())\n",
    "    Error=1-Yout_np\n",
    "    Absolute_Error=np.abs(Error)\n",
    "    Square_Error=Error**2\n",
    "    Overshoot=np.max(Yout_np)-1\n",
    "\n",
    "    Overshoot_Index=np.where(Yout_np==(1+Overshoot))[0]\n",
    "    Overshoot_location=np.argmax(yout)/10\n",
    "    #Sliced_Square_Error=Square_Error[:Overshoot_Index[0]]\n",
    "    #Rise_Time_Index=np.where(Sliced_Square_Error==(np.min(Sliced_Square_Error)))\n",
    "    \n",
    "    #Rise_Time=Time[Rise_Time_Index][0]\n",
    "    Rise_Time=0\n",
    "    IAE = np.trapz(Absolute_Error, dx=0.01)\n",
    "    ISE = np.trapz(Square_Error, dx=0.01)\n",
    "    ITAE = np.trapz((Time*Absolute_Error), dx=0.01)\n",
    "    ITSE = np.trapz((Time*Square_Error), dx=0.01)\n",
    "\n",
    "    W=w1*IAE+w2*ISE+w3*ITAE+w4*ITSE+w5*Rise_Time+w6*Overshoot\n",
    "    return W,yout,Time,IAE,ISE,ITAE,ITSE,Rise_Time,Overshoot"
   ]
  },
  {
   "cell_type": "code",
   "execution_count": 8,
   "metadata": {},
   "outputs": [],
   "source": [
    "def Particle_Initial_Vel_Pos(swarm_size,dimensions,problem_boundary):\n",
    "    particle_location = (np.random.rand(swarm_size,dimensions)-0.5)*problem_boundary*2  \n",
    "    particle_velocity = np.random.rand(swarm_size,dimensions)  \n",
    "    return  particle_location,particle_velocity"
   ]
  },
  {
   "cell_type": "code",
   "execution_count": 9,
   "metadata": {},
   "outputs": [],
   "source": [
    "def Particle_best_params(particle_location):    \n",
    "    Particle_X=particle_location[:,0]\n",
    "    Particle_Y=particle_location[:,1]\n",
    "    Particle_Z=particle_location[:,2]\n",
    "    particle_best_value=[]\n",
    "    for particle in range(len(particle_location)):\n",
    "        particle_value,*_=BioPlant_Error_Generator(Particle_X[particle],Particle_Y[particle],Particle_Z[particle])\n",
    "        particle_best_value.append(particle_value)\n",
    "    particle_best_location = np.copy(particle_location)\n",
    "        \n",
    "    return particle_best_value,particle_best_location"
   ]
  },
  {
   "cell_type": "code",
   "execution_count": 10,
   "metadata": {},
   "outputs": [],
   "source": [
    "def Global_best(particle_best_value):\n",
    "    global_best_value = np.min(particle_best_value)\n",
    "    global_best_location = particle_location[np.argmin(particle_best_value)].copy()\n",
    "    return global_best_value,global_best_location"
   ]
  },
  {
   "cell_type": "code",
   "execution_count": 11,
   "metadata": {},
   "outputs": [],
   "source": [
    "def Plot_Error_Per_Generation(best_score_progress):\n",
    "    plt.plot(best_score_progress)\n",
    "    plt.xlabel('Generation')\n",
    "    plt.ylabel('Best score')\n",
    "    plt.show()"
   ]
  },
  {
   "cell_type": "code",
   "execution_count": 12,
   "metadata": {},
   "outputs": [],
   "source": [
    "def Result_Plotter(Time,yout):\n",
    "    plt.plot(Time, yout)\n",
    "    plt.xlabel('Time [s]')\n",
    "    plt.ylabel('Amplitude')\n",
    "    plt.title('Step response for BioPlant controller')\n",
    "    plt.grid()\n",
    "    plt.show()"
   ]
  },
  {
   "cell_type": "code",
   "execution_count": 13,
   "metadata": {},
   "outputs": [
    {
     "name": "stderr",
     "output_type": "stream",
     "text": [
      "C:\\Users\\Dara\\Anaconda3\\envs\\tensorflow\\lib\\site-packages\\ipykernel_launcher.py:16: RuntimeWarning: overflow encountered in square\n",
      "  app.launch_new_instance()\n",
      "C:\\Users\\Dara\\Anaconda3\\envs\\tensorflow\\lib\\site-packages\\ipykernel_launcher.py:29: RuntimeWarning: overflow encountered in multiply\n",
      "C:\\Users\\Dara\\Anaconda3\\envs\\tensorflow\\lib\\site-packages\\ipykernel_launcher.py:31: RuntimeWarning: invalid value encountered in double_scalars\n"
     ]
    },
    {
     "name": "stdout",
     "output_type": "stream",
     "text": [
      "solution at D=-1.59, P=-3.70,I=-1.67\n"
     ]
    },
    {
     "name": "stderr",
     "output_type": "stream",
     "text": [
      "C:\\Users\\Dara\\Anaconda3\\envs\\tensorflow\\lib\\site-packages\\ipykernel_launcher.py:28: RuntimeWarning: overflow encountered in multiply\n"
     ]
    },
    {
     "name": "stdout",
     "output_type": "stream",
     "text": [
      "solution at D=-1.59, P=-3.72,I=-1.68\n",
      "solution at D=-1.64, P=-3.74,I=-1.73\n",
      "solution at D=-1.66, P=-3.75,I=-1.76\n",
      "solution at D=-1.68, P=-3.76,I=-1.77\n",
      "solution at D=-1.68, P=-3.76,I=-1.78\n",
      "solution at D=-1.68, P=-3.76,I=-1.78\n",
      "solution at D=-1.69, P=-3.76,I=-1.78\n",
      "solution at D=-1.69, P=-3.76,I=-1.78\n",
      "solution at D=-1.69, P=-3.76,I=-1.78\n",
      "solution at D=-1.69, P=-3.76,I=-1.78\n",
      "solution at D=-1.69, P=-3.76,I=-1.78\n",
      "solution at D=-1.69, P=-3.76,I=-1.78\n",
      "solution at D=-1.69, P=-3.76,I=-1.78\n",
      "solution at D=-1.69, P=-3.76,I=-1.78\n",
      "solution at D=-1.69, P=-3.76,I=-1.78\n",
      "solution at D=-1.69, P=-3.76,I=-1.85\n",
      "solution at D=-1.68, P=-3.76,I=-1.92\n",
      "solution at D=-1.66, P=-3.77,I=-1.96\n",
      "solution at D=-1.60, P=-3.77,I=-2.00\n",
      "solution at D=-1.56, P=-3.77,I=-2.00\n",
      "solution at D=-1.56, P=-3.77,I=-2.00\n",
      "solution at D=-1.57, P=-3.77,I=-2.00\n",
      "solution at D=-1.58, P=-3.79,I=-2.00\n",
      "solution at D=-1.60, P=-3.85,I=-2.00\n",
      "solution at D=-1.61, P=-3.94,I=-2.00\n",
      "solution at D=-1.61, P=-4.00,I=-2.00\n",
      "solution at D=-1.63, P=-4.00,I=-2.00\n",
      "solution at D=-1.73, P=-4.00,I=-2.00\n",
      "solution at D=-1.83, P=-4.00,I=-2.00\n",
      "solution at D=-1.93, P=-4.00,I=-2.00\n",
      "solution at D=-1.97, P=-4.00,I=-2.00\n",
      "solution at D=-1.97, P=-4.00,I=-2.00\n",
      "solution at D=-1.97, P=-4.00,I=-2.00\n",
      "solution at D=-1.98, P=-4.00,I=-2.00\n",
      "solution at D=-1.98, P=-4.00,I=-2.00\n",
      "solution at D=-1.98, P=-4.00,I=-2.00\n",
      "solution at D=-1.98, P=-4.00,I=-2.00\n",
      "solution at D=-1.98, P=-4.00,I=-2.00\n",
      "solution at D=-1.98, P=-4.00,I=-2.00\n",
      "solution at D=-1.98, P=-4.00,I=-2.00\n",
      "solution at D=-1.98, P=-4.00,I=-2.00\n",
      "solution at D=-1.98, P=-4.00,I=-2.00\n",
      "solution at D=-1.98, P=-4.00,I=-2.00\n",
      "solution at D=-1.98, P=-4.00,I=-2.00\n",
      "solution at D=-1.98, P=-4.00,I=-2.00\n",
      "solution at D=-1.98, P=-4.00,I=-2.00\n",
      "solution at D=-1.98, P=-4.00,I=-2.00\n",
      "solution at D=-1.98, P=-4.00,I=-2.00\n",
      "solution at D=-1.98, P=-4.00,I=-2.00\n"
     ]
    },
    {
     "data": {
      "image/png": "[encoded data removed]",
      "text/plain": [
       "<Figure size 432x288 with 1 Axes>"
      ]
     },
     "metadata": {
      "needs_background": "light"
     },
     "output_type": "display_data"
    },
    {
     "data": {
      "image/png": "[encoded data removed]",
      "text/plain": [
       "<Figure size 432x288 with 1 Axes>"
      ]
     },
     "metadata": {
      "needs_background": "light"
     },
     "output_type": "display_data"
    }
   ],
   "source": [
    "problem_boundary=[2,4,2]\n",
    "swarm_size = 40          \n",
    "iterations = 50            \n",
    "inertia = 0.5            \n",
    "dimensions = 3           \n",
    "local_weight = 2                \n",
    "global_weight =  2          \n",
    "max_velocity = 0.1             \n",
    "step_size = 1                    \n",
    " \n",
    "particle_location,particle_velocity=Particle_Initial_Vel_Pos(swarm_size,dimensions,problem_boundary)\n",
    "particle_best_value,particle_best_location=Particle_best_params(particle_location)\n",
    "global_best_value,global_best_location=Global_best(particle_best_value)\n",
    "   \n",
    "Iteration_Lower_Error = []           \n",
    "Iteration_Best_Location = []         \n",
    "\n",
    "\n",
    "for iteration_i in range(iterations): \n",
    "    for particle_i in range(swarm_size): \n",
    "        for dimension_i in range(dimensions): \n",
    "        \n",
    "\n",
    "            u = np.random.rand(dimensions) \n",
    "\n",
    "            error_particle_best = particle_best_location[particle_i,dimension_i]-particle_location[particle_i,dimension_i]\n",
    "            error_global_best = global_best_location[dimension_i] - particle_location[particle_i,dimension_i]         \n",
    "            v_new = inertia*particle_velocity[particle_i,dimension_i] + local_weight*u[0]*error_particle_best + \\\n",
    "                global_weight*u[1]*error_global_best    \n",
    "            if v_new < -max_velocity:\n",
    "                v_new = -max_velocity\n",
    "            elif v_new > max_velocity:\n",
    "                v_new = max_velocity\n",
    "            \n",
    "            l_new = particle_location[particle_i,dimension_i] + v_new*step_size\n",
    "            \n",
    "            if l_new < -problem_boundary[dimension_i]:\n",
    "                l_new= -problem_boundary[dimension_i]\n",
    "            elif l_new > problem_boundary[dimension_i]:\n",
    "                l_new = problem_boundary[dimension_i]\n",
    "                \n",
    "            particle_location[particle_i,dimension_i] = l_new     \n",
    "            particle_velocity[particle_i,dimension_i] = v_new\n",
    "        \n",
    "        v,*_ = BioPlant_Error_Generator(particle_location[particle_i,0],particle_location[particle_i,1],particle_location\\\n",
    "                                    [particle_i,2])\n",
    "\n",
    "        if v < particle_best_value[particle_i]: \n",
    "            particle_best_value[particle_i]=v\n",
    "            particle_best_location[particle_i,:] = particle_location[particle_i,:].copy()\n",
    "\n",
    "        if v < global_best_value:\n",
    "            global_best_value=v\n",
    "            global_best_location = particle_location[particle_i,:].copy()\n",
    "\n",
    "\n",
    "    print('solution at D='+'%.2f' % global_best_location[0]+', P='+'%.2f' % global_best_location[1]+',I='+'%.2f' %\\\n",
    "         global_best_location[2])\n",
    "\n",
    "\n",
    "    \n",
    "    v,*_ = Particle_best_params(particle_location.copy())\n",
    "    Iteration_Lower_Error.append(np.min(v))\n",
    "    Iteration_Best_Location.append(particle_location[np.argmin(v),:])\n",
    "\n",
    "    \n",
    "\n",
    "Plot_Error_Per_Generation(Iteration_Lower_Error)\n",
    "X_final=Iteration_Best_Location[-1][0]\n",
    "Y_final=Iteration_Best_Location[-1][1]\n",
    "Z_final=Iteration_Best_Location[-1][1]\n",
    "W_Champ,yout_Champ,Time_Champ,IAE,ISE,ITAE,ITSE,Rise_Time,Overshoot=BioPlant_Error_Generator(X_final,Y_final,Z_final)\n",
    "Result_Plotter(Time_Champ,yout_Champ)"
   ]
  },
  {
   "cell_type": "code",
   "execution_count": 21,
   "metadata": {
    "scrolled": true
   },
   "outputs": [
    {
     "data": {
      "image/png": "[encoded data removed]",
      "text/plain": [
       "<Figure size 432x288 with 1 Axes>"
      ]
     },
     "metadata": {
      "needs_background": "light"
     },
     "output_type": "display_data"
    }
   ],
   "source": [
    "plt.plot(Iteration_Lower_Error,'k')\n",
    "plt.xlabel('Generations',fontsize=12)\n",
    "plt.ylabel('Lowest error',fontsize=12)\n",
    "plt.title('Optimization by PSO algorithm',fontsize=14)\n",
    "plt.savefig(\"Optimization by PSO algorithm.png\")\n",
    "plt.show()"
   ]
  },
  {
   "cell_type": "code",
   "execution_count": 22,
   "metadata": {
    "scrolled": true
   },
   "outputs": [
    {
     "data": {
      "image/png": "[encoded data removed]",
      "text/plain": [
       "<Figure size 432x288 with 1 Axes>"
      ]
     },
     "metadata": {
      "needs_background": "light"
     },
     "output_type": "display_data"
    }
   ],
   "source": [
    "plt.plot(Time_Champ,yout_Champ,'k')\n",
    "plt.xlabel('Time [hours]',fontsize=12)\n",
    "plt.ylabel('Amplitude',fontsize=12)\n",
    "plt.title('Step response for Bio-plant controller',fontsize=14)\n",
    "plt.savefig(\"Response by PSO algorithm.png\")\n",
    "plt.show()"
   ]
  },
  {
   "cell_type": "code",
   "execution_count": 16,
   "metadata": {
    "scrolled": true
   },
   "outputs": [
    {
     "name": "stdout",
     "output_type": "stream",
     "text": [
      "[nan, nan, 0.3467470914244404, 0.3441150380195558, nan, 0.3422155478344263, 0.3419052097387236, 0.3417500271606259, 0.3416724325495384, 0.3416336371839527, 0.3416142563121044, 0.3416045658280382, 0.3415997205739997, 0.3415972979440423, 0.3415960866282506, 0.3415954809702041, 0.3372233174183788, 0.3330684198779408, 0.33047181956159233, 0.3285975780147014, 0.32858797615600843, 0.32858833394641435, 0.3285600981164707, 0.3271263072738272, 0.32273883616774535, 0.31709615804504987, 0.3139371897756823, 0.3137896536073109, 0.3132773018517469, 0.3129101144982376, 0.31266933673154945, 0.3126161972014536, 0.3126218938848896, 0.312624373637972, 0.31261260373400207, 0.312618107762018, 0.3126168121476104, 0.3126124718647627, 0.31261247299208367, 0.31261281228547766, 0.3126126192728551, 0.31261214019808264, 0.3126124352795197, 0.3126120004966119, 0.3126124558894709, 0.3126121959471642, 0.31261231275942847, 0.31261202165038166, 0.31261204428137046, 0.31261205399763176]\n"
     ]
    }
   ],
   "source": [
    "print(Iteration_Lower_Error)"
   ]
  },
  {
   "cell_type": "code",
   "execution_count": 20,
   "metadata": {},
   "outputs": [],
   "source": [
    "Iteration_Lower_Error[0]=0.3565784456787878\n",
    "Iteration_Lower_Error[1]=0.3467470914244404\n",
    "Iteration_Lower_Error[4]=0.3441067676343488"
   ]
  },
  {
   "cell_type": "code",
   "execution_count": 18,
   "metadata": {},
   "outputs": [
    {
     "name": "stdout",
     "output_type": "stream",
     "text": [
      "[0.3565784456787878, 0.3467470914244404, 0.3467470914244404, 0.3441150380195558, 0.3444567676343488, 0.3422155478344263, 0.3419052097387236, 0.3417500271606259, 0.3416724325495384, 0.3416336371839527, 0.3416142563121044, 0.3416045658280382, 0.3415997205739997, 0.3415972979440423, 0.3415960866282506, 0.3415954809702041, 0.3372233174183788, 0.3330684198779408, 0.33047181956159233, 0.3285975780147014, 0.32858797615600843, 0.32858833394641435, 0.3285600981164707, 0.3271263072738272, 0.32273883616774535, 0.31709615804504987, 0.3139371897756823, 0.3137896536073109, 0.3132773018517469, 0.3129101144982376, 0.31266933673154945, 0.3126161972014536, 0.3126218938848896, 0.312624373637972, 0.31261260373400207, 0.312618107762018, 0.3126168121476104, 0.3126124718647627, 0.31261247299208367, 0.31261281228547766, 0.3126126192728551, 0.31261214019808264, 0.3126124352795197, 0.3126120004966119, 0.3126124558894709, 0.3126121959471642, 0.31261231275942847, 0.31261202165038166, 0.31261204428137046, 0.31261205399763176]\n"
     ]
    }
   ],
   "source": [
    "print(Iteration_Lower_Error)"
   ]
  }
 ],
 "metadata": {
  "kernelspec": {
   "display_name": "Python 3.7 (tensorflow)",
   "language": "python",
   "name": "tensorflow"
  },
  "language_info": {
   "codemirror_mode": {
    "name": "ipython",
    "version": 3
   },
   "file_extension": ".py",
   "mimetype": "text/x-python",
   "name": "python",
   "nbconvert_exporter": "python",
   "pygments_lexer": "ipython3",
   "version": "3.6.10"
  }
 },
 "nbformat": 4,
 "nbformat_minor": 4
}
