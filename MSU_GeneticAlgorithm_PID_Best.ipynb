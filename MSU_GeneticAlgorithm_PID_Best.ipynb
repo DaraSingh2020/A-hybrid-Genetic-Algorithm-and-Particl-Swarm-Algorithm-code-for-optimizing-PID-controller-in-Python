{
 "cells": [
  {
   "cell_type": "code",
   "execution_count": 1,
   "metadata": {},
   "outputs": [],
   "source": [
    "import numpy as np\n",
    "import matplotlib.pyplot as plt\n",
    "%matplotlib inline\n",
    "import control\n",
    "from control import *"
   ]
  },
  {
   "cell_type": "code",
   "execution_count": 2,
   "metadata": {},
   "outputs": [],
   "source": [
    "def BioPlant_GR_TF():\n",
    "    A_gr=[[0,-0.068],[-0.75,-0.1302]]\n",
    "    B_gr=[[-0.9951],[2.4878]]\n",
    "    C_gr=[1,0]\n",
    "    D_gr=[0]\n",
    "    TF_gr=control.ss2tf(A_gr, B_gr, C_gr, D_gr)\n",
    "    return TF_gr"
   ]
  },
  {
   "cell_type": "code",
   "execution_count": 3,
   "metadata": {},
   "outputs": [],
   "source": [
    "def BioPlant_ST_TF():\n",
    "    A_st=[[0, 0.9056], [-0.75, -2.564]]\n",
    "    B_st=[[-1.5301],[3.8255]]\n",
    "    C_st=[1,0]\n",
    "    D_st=[0]\n",
    "    TF_st=control.ss2tf(A_st, B_st, C_st, D_st)\n",
    "    return TF_st"
   ]
  },
  {
   "cell_type": "code",
   "execution_count": 4,
   "metadata": {},
   "outputs": [],
   "source": [
    "def Result_Plotter(Time,yout):\n",
    "    plt.plot(Time, yout)\n",
    "    plt.xlabel('Time [s]')\n",
    "    plt.ylabel('Amplitude')\n",
    "    plt.title('Step response for BioPlant controller')\n",
    "    plt.grid()"
   ]
  },
  {
   "cell_type": "code",
   "execution_count": 5,
   "metadata": {},
   "outputs": [],
   "source": [
    "def PID_TF_Generator(D,P,I):\n",
    "    PID_Num=[D,P,I]\n",
    "    PID_Den=[1,0]\n",
    "    PID_TF=control.tf(PID_Num,PID_Den)\n",
    "    return PID_TF"
   ]
  },
  {
   "cell_type": "code",
   "execution_count": 6,
   "metadata": {},
   "outputs": [],
   "source": [
    "def PID_Plant_Response(PID_TF,TF_gr):\n",
    "    FeedBack = feedback(PID_TF*TF_gr,1)\n",
    "    Time=list(np.arange(0,40,0.1))\n",
    "    Time, yout = control.step_response(sys=FeedBack,T=Time,X0=0)\n",
    "    return Time,yout"
   ]
  },
  {
   "cell_type": "code",
   "execution_count": 7,
   "metadata": {},
   "outputs": [],
   "source": [
    "def BioPlant_Error_Generator(D,P,I):\n",
    "    TF_gr=BioPlant_GR_TF()\n",
    "    w1=5\n",
    "    w2=5\n",
    "    w3=1\n",
    "    w4=1\n",
    "    w5=4\n",
    "    w6=0\n",
    "\n",
    "    PID_TF=PID_TF_Generator(D,P,I)\n",
    "    Time,yout=PID_Plant_Response(PID_TF,TF_gr)\n",
    "\n",
    "    Yout_np=np.array(yout.copy())\n",
    "    Error=1-Yout_np\n",
    "    Absolute_Error=np.abs(Error)\n",
    "    Square_Error=Error**2\n",
    "    Overshoot=np.max(Yout_np)-1\n",
    "\n",
    "    Overshoot_Index=np.where(Yout_np==(1+Overshoot))[0]\n",
    "    Overshoot_location=np.argmax(yout)/10\n",
    "    #Sliced_Square_Error=Square_Error[:Overshoot_Index[0]]\n",
    "    #Rise_Time_Index=np.where(Sliced_Square_Error==(np.min(Sliced_Square_Error)))\n",
    "    \n",
    "    #Rise_Time=Time[Rise_Time_Index][0]\n",
    "    Rise_Time=0\n",
    "    IAE = np.trapz(Absolute_Error, dx=0.01)\n",
    "    ISE = np.trapz(Square_Error, dx=0.01)\n",
    "    ITAE = np.trapz((Time*Absolute_Error), dx=0.01)\n",
    "    ITSE = np.trapz((Time*Square_Error), dx=0.01)\n",
    "\n",
    "    W=w1*IAE+w2*ISE+w3*ITAE+w4*ITSE+w5*Rise_Time+w6*Overshoot\n",
    "    return W,yout,Time,IAE,ISE,ITAE,ITSE,Rise_Time,Overshoot"
   ]
  },
  {
   "cell_type": "code",
   "execution_count": 8,
   "metadata": {
    "scrolled": true
   },
   "outputs": [],
   "source": [
    "def create_population(population_size, parameters, sub_chromosome_length,problem_boundary):\n",
    "\n",
    "    population_sub1_ = np.random.uniform(-problem_boundary[0], problem_boundary[0], size=(population_size, 1))\n",
    "    population_sub2_ = np.random.uniform(-problem_boundary[1], problem_boundary[1], size=(population_size, 1))\n",
    "    population_sub3_ = np.random.uniform(-problem_boundary[2], problem_boundary[2], size=(population_size, 1))\n",
    "    sub_chromosome_matrix=np.ones((population_size,sub_chromosome_length))/sub_chromosome_length\n",
    "    \n",
    "    population_sub1=population_sub1_*sub_chromosome_matrix\n",
    "    population_sub2=population_sub2_*sub_chromosome_matrix\n",
    "    population_sub3=population_sub3_*sub_chromosome_matrix\n",
    "    \n",
    "    population_sub12=np.hstack((population_sub1,population_sub2))\n",
    "    population=np.hstack((population_sub12,population_sub3))\n",
    "\n",
    "\n",
    "    return population"
   ]
  },
  {
   "cell_type": "code",
   "execution_count": 9,
   "metadata": {},
   "outputs": [],
   "source": [
    "def boundary_checker(population,parameters,sub_chromosome_length,problem_boundary):\n",
    "\n",
    "    Feature1=population[:,0:sub_chromosome_length]\n",
    "    Feature2=population[:,sub_chromosome_length:2*sub_chromosome_length]\n",
    "    Feature3=population[:,2*sub_chromosome_length:]\n",
    "    Initial_Length=len(population)\n",
    "\n",
    "    \n",
    "    P=np.sum(Feature1,keepdims=True,axis=1)\n",
    "    maskP=np.abs(P)>problem_boundary[0]\n",
    "    D=np.sum(Feature2,keepdims=True,axis=1)\n",
    "    maskD=np.abs(D)>problem_boundary[1]\n",
    "    I=np.sum(Feature3,keepdims=True,axis=1)\n",
    "    maskI=np.abs(I)>problem_boundary[2]\n",
    "    maskPD=np.hstack((maskP,maskD))\n",
    "    maskPDI=np.hstack((maskPD,maskI))\n",
    "    \n",
    "    \n",
    "    mask=np.invert(np.any(maskPDI,axis=1))\n",
    "    population_checked=population[mask]\n",
    "\n",
    "    return population_checked"
   ]
  },
  {
   "cell_type": "code",
   "execution_count": 10,
   "metadata": {},
   "outputs": [],
   "source": [
    "def calculate_fitness(population_checked,sub_chromosome_length):\n",
    "    \n",
    "    Feature1=population_checked[:,0:sub_chromosome_length]\n",
    "    Feature2=population_checked[:,sub_chromosome_length:2*sub_chromosome_length]\n",
    "    Feature3=population_checked[:,2*sub_chromosome_length:]\n",
    "\n",
    "    X=(np.sum(Feature1,axis=1)).tolist()\n",
    "    Y=(np.sum(Feature2,axis=1)).tolist()\n",
    "    Z=(np.sum(Feature3,axis=1)).tolist()\n",
    "\n",
    "    GA_Errors=[]\n",
    "    for ns in range(len(X)):\n",
    "        TTTT,*_=BioPlant_Error_Generator(X[ns],Y[ns],Z[ns])\n",
    "        GA_Errors.append(TTTT)\n",
    "    GA_Errors=np.reshape(GA_Errors,newshape=(np.shape(population_checked)[0],1))\n",
    "    population_with_fitness=np.hstack((GA_Errors,population_checked))\n",
    "        \n",
    "    return population_with_fitness"
   ]
  },
  {
   "cell_type": "code",
   "execution_count": 11,
   "metadata": {},
   "outputs": [],
   "source": [
    "def chromosome_to_result(Champ,sub_chromosome_length):\n",
    "    Champ1=Champ[1:]\n",
    "    Feature_1=Champ1[0:sub_chromosome_length]\n",
    "    Feature_2=Champ1[sub_chromosome_length:2*sub_chromosome_length]\n",
    "    Feature_3=Champ1[2*sub_chromosome_length:]\n",
    "\n",
    "    Champ_X=(np.sum(Feature_1)).tolist()\n",
    "    Champ_Y=(np.sum(Feature_2)).tolist()\n",
    "    Champ_Z=(np.sum(Feature_3)).tolist()\n",
    "    Champ_W,Champ_yout,Champ_Time,*_=BioPlant_Error_Generator(Champ_X,Champ_Y,Champ_Z)\n",
    "    \n",
    "    return Champ_X,Champ_Y,Champ_Z,Champ_W,Champ_yout,Champ_Time"
   ]
  },
  {
   "cell_type": "code",
   "execution_count": 12,
   "metadata": {},
   "outputs": [],
   "source": [
    "def sort_population(population_with_fitness,population_size):\n",
    "    population_sorted_=population_with_fitness[population_with_fitness[:,0].argsort()]\n",
    "    population_sorted=population_sorted_[0:population_size]\n",
    "\n",
    "    return population_sorted"
   ]
  },
  {
   "cell_type": "code",
   "execution_count": 13,
   "metadata": {},
   "outputs": [],
   "source": [
    "def breed_by_crossover(parent_1, parent_2,crossovers):\n",
    "\n",
    "    chromosome_length = len(parent_1)-1\n",
    "    crossover_points = np.sort(np.random.choice(range(1,chromosome_length),size=crossovers,replace=False))\n",
    "    parents=[parent_1,parent_2]\n",
    "    j=0\n",
    "    k=1\n",
    "    for point in crossover_points:\n",
    "        child1 = np.hstack((parents[0][0:point],parents[k][point:]))\n",
    "        child2 = np.hstack((parents[1][0:point],parents[j][point:]))\n",
    "        parents[0]=child1.copy()\n",
    "        parents[1]=child2.copy()\n",
    "        j,k=k,j\n",
    "    children=np.vstack((parents[0],parents[1]))\n",
    "    \n",
    "    return children"
   ]
  },
  {
   "cell_type": "code",
   "execution_count": 14,
   "metadata": {},
   "outputs": [],
   "source": [
    "def population_generator(population_sorted,population_size,mutation_rate,crossovers,mutation_per_chromosome):\n",
    "    \n",
    "    quarter_size=int(population_size/4)\n",
    "    selected_index=np.random.permutation(2*quarter_size)\n",
    "    parent_one_list=selected_index[0:quarter_size]\n",
    "    parent_two_list=selected_index[quarter_size:]\n",
    "    population_no_score=np.delete(population_sorted,0,axis=1)\n",
    "    population_for_breeding=population_no_score[:2*quarter_size]\n",
    "\n",
    "    for i in range(quarter_size):\n",
    "        parent_1=population_for_breeding[parent_one_list[i],:]\n",
    "        parent_2=population_for_breeding[parent_two_list[i],:]\n",
    "        children=breed_by_crossover(parent_1, parent_2,crossovers)\n",
    "        population_for_breeding=np.vstack((population_for_breeding,children))\n",
    "\n",
    "    population_for_mutation=population_for_breeding.copy()\n",
    "    population_after_mutation=randomly_mutate_population(population_for_mutation, mutation_rate,mutation_per_chromosome)\n",
    "    population=population_after_mutation.copy()\n",
    "    return population"
   ]
  },
  {
   "cell_type": "code",
   "execution_count": 15,
   "metadata": {},
   "outputs": [],
   "source": [
    "def randomly_mutate_population(population_for_mutation, mutation_rate,mutation_per_chromosome):\n",
    "    \n",
    "    (people,chromosome_length)=np.shape(population_for_mutation)\n",
    "    keep=1\n",
    "    max_val=np.max(population_for_mutation)\n",
    "    min_val=np.min(population_for_mutation)\n",
    "    muts1=int(mutation_rate*people)\n",
    "    mutation_people=np.random.choice(range(keep,people),size=muts1,replace=False)\n",
    "\n",
    "    for num in mutation_people:\n",
    "        mutant_genes=np.random.choice(range(0,chromosome_length),size=mutation_per_chromosome,replace=False)\n",
    "        for mutant_gene in mutant_genes:\n",
    "            population_for_mutation[num,mutant_gene]=np.random.uniform(min_val, max_val)\n",
    "    population_after_mutation=population_for_mutation.copy()\n",
    "    return population_after_mutation"
   ]
  },
  {
   "cell_type": "code",
   "execution_count": 16,
   "metadata": {},
   "outputs": [],
   "source": [
    "def Plot_Error_Per_Generation(best_score_progress):\n",
    "    plt.plot(best_score_progress)\n",
    "    plt.xlabel('Generation')\n",
    "    plt.ylabel('Best score (% target)')\n",
    "    plt.show()"
   ]
  },
  {
   "cell_type": "code",
   "execution_count": 17,
   "metadata": {},
   "outputs": [],
   "source": [
    "def Result_Plotter(Time,yout):\n",
    "    plt.plot(Time, yout)\n",
    "    plt.xlabel('Time [s]')\n",
    "    plt.ylabel('Amplitude')\n",
    "    plt.title('Step response for BioPlant controller')\n",
    "    plt.grid()\n",
    "    plt.show()"
   ]
  },
  {
   "cell_type": "code",
   "execution_count": 18,
   "metadata": {
    "scrolled": false
   },
   "outputs": [
    {
     "name": "stderr",
     "output_type": "stream",
     "text": [
      "C:\\Users\\Dara\\Anaconda3\\envs\\tensorflow\\lib\\site-packages\\ipykernel_launcher.py:16: RuntimeWarning: overflow encountered in square\n",
      "  app.launch_new_instance()\n",
      "C:\\Users\\Dara\\Anaconda3\\envs\\tensorflow\\lib\\site-packages\\ipykernel_launcher.py:28: RuntimeWarning: overflow encountered in multiply\n",
      "C:\\Users\\Dara\\Anaconda3\\envs\\tensorflow\\lib\\site-packages\\numpy\\lib\\function_base.py:4062: RuntimeWarning: overflow encountered in add\n",
      "  ret = (d * (y[tuple(slice1)] + y[tuple(slice2)]) / 2.0).sum(axis)\n",
      "C:\\Users\\Dara\\Anaconda3\\envs\\tensorflow\\lib\\site-packages\\ipykernel_launcher.py:29: RuntimeWarning: overflow encountered in multiply\n"
     ]
    },
    {
     "name": "stdout",
     "output_type": "stream",
     "text": [
      "0\n",
      "The solution to the problem is: 1.9940511227376136 3.220417676549001 1.1346471805969376 and the error is 0.5319752606674507\n",
      "1\n",
      "The solution to the problem is: 1.9940511227376136 3.220417676549001 1.1346471805969376 and the error is 0.5319752606674507\n",
      "2\n",
      "The solution to the problem is: 1.9940511227376136 3.220417676549001 1.1346471805969376 and the error is 0.5319752606674507\n",
      "3\n",
      "The solution to the problem is: 1.9940511227376136 3.220417676549001 1.1346471805969376 and the error is 0.5319752606674507\n",
      "4\n",
      "The solution to the problem is: 1.9940511227376136 3.220417676549001 1.1346471805969376 and the error is 0.5319752606674507\n",
      "5\n",
      "The solution to the problem is: -0.5222638852401322 -2.8472417606639215 -1.1925829905684755 and the error is 0.5189689754207789\n",
      "6\n",
      "The solution to the problem is: -1.1511433784271898 -2.9512705925191876 -1.1325367148020078 and the error is 0.4913035804642196\n",
      "7\n",
      "The solution to the problem is: -1.1511433784271898 -2.9512705925191876 -1.1325367148020078 and the error is 0.4913035804642196\n",
      "8\n",
      "The solution to the problem is: -1.3884426868154454 -3.4493748783432405 -1.2286358181825037 and the error is 0.43239843075615775\n",
      "9\n",
      "The solution to the problem is: -1.3884426868154454 -3.4493748783432405 -1.2286358181825037 and the error is 0.43239843075615775\n",
      "10\n",
      "The solution to the problem is: -1.3884426868154454 -3.4493748783432405 -1.2286358181825037 and the error is 0.43239843075615775\n",
      "11\n",
      "The solution to the problem is: -0.8761407768843608 -3.2523918258326185 -1.8317821410593722 and the error is 0.38655426985036284\n",
      "12\n",
      "The solution to the problem is: -1.2454262267090095 -3.3688217823213824 -1.8317821410593722 and the error is 0.37118679943051464\n",
      "13\n",
      "The solution to the problem is: -1.2454262267090095 -3.3688217823213824 -1.8317821410593722 and the error is 0.37118679943051464\n",
      "14\n",
      "The solution to the problem is: -1.2454262267090095 -3.3688217823213824 -1.8317821410593722 and the error is 0.37118679943051464\n",
      "15\n",
      "The solution to the problem is: -1.2454262267090095 -3.3688217823213824 -1.8317821410593722 and the error is 0.37118679943051464\n",
      "16\n",
      "The solution to the problem is: -1.2454262267090095 -3.3688217823213824 -1.8317821410593722 and the error is 0.37118679943051464\n",
      "17\n",
      "The solution to the problem is: -1.2454262267090095 -3.3688217823213824 -1.8317821410593722 and the error is 0.37118679943051464\n",
      "18\n",
      "The solution to the problem is: -1.2454262267090095 -3.3688217823213824 -1.8317821410593722 and the error is 0.37118679943051464\n",
      "19\n",
      "The solution to the problem is: -1.2454262267090095 -3.3688217823213824 -1.8317821410593722 and the error is 0.37118679943051464\n",
      "20\n",
      "The solution to the problem is: -1.2454262267090095 -3.3688217823213824 -1.8317821410593722 and the error is 0.37118679943051464\n",
      "21\n",
      "The solution to the problem is: -1.2454262267090095 -3.3688217823213824 -1.8317821410593722 and the error is 0.37118679943051464\n",
      "22\n",
      "The solution to the problem is: -1.2454262267090095 -3.3688217823213824 -1.8317821410593722 and the error is 0.37118679943051464\n",
      "23\n",
      "The solution to the problem is: -1.4628750523620115 -3.362909795814856 -1.9635682625411486 and the error is 0.3649553784844112\n",
      "24\n",
      "The solution to the problem is: -1.4936791846303645 -3.4288823972393745 -1.9844607401847079 and the error is 0.35755989797769233\n",
      "25\n",
      "The solution to the problem is: -1.4936791846303645 -3.4288823972393745 -1.9844607401847079 and the error is 0.35755989797769233\n",
      "26\n",
      "The solution to the problem is: -1.4936791846303645 -3.4288823972393745 -1.9844607401847079 and the error is 0.35755989797769233\n",
      "27\n",
      "The solution to the problem is: -1.4936791846303645 -3.4288823972393745 -1.9844607401847079 and the error is 0.35755989797769233\n",
      "28\n",
      "The solution to the problem is: -1.4936791846303645 -3.4288823972393745 -1.9844607401847079 and the error is 0.35755989797769233\n",
      "29\n",
      "The solution to the problem is: -1.4936791846303645 -3.4288823972393745 -1.9844607401847079 and the error is 0.35755989797769233\n",
      "30\n",
      "The solution to the problem is: -1.2449176771145685 -3.6002999435559717 -1.9844607401847079 and the error is 0.34357187586771043\n",
      "31\n",
      "The solution to the problem is: -1.2449176771145685 -3.6002999435559717 -1.9844607401847079 and the error is 0.34357187586771043\n",
      "32\n",
      "The solution to the problem is: -1.2449176771145685 -3.6002999435559717 -1.9844607401847079 and the error is 0.34357187586771043\n",
      "33\n",
      "The solution to the problem is: -1.2449176771145685 -3.6002999435559717 -1.9844607401847079 and the error is 0.34357187586771043\n",
      "34\n",
      "The solution to the problem is: -1.2449176771145685 -3.6002999435559717 -1.9844607401847079 and the error is 0.34357187586771043\n",
      "35\n",
      "The solution to the problem is: -1.2449176771145685 -3.6002999435559717 -1.9844607401847079 and the error is 0.34357187586771043\n",
      "36\n",
      "The solution to the problem is: -1.2449176771145685 -3.6002999435559717 -1.9844607401847079 and the error is 0.34357187586771043\n",
      "37\n",
      "The solution to the problem is: -1.2449176771145685 -3.6002999435559717 -1.9844607401847079 and the error is 0.34357187586771043\n",
      "38\n",
      "The solution to the problem is: -1.2449176771145685 -3.6002999435559717 -1.9844607401847079 and the error is 0.34357187586771043\n",
      "39\n",
      "The solution to the problem is: -1.2449176771145685 -3.6002999435559717 -1.9844607401847079 and the error is 0.34357187586771043\n",
      "40\n",
      "The solution to the problem is: -1.2449176771145685 -3.6002999435559717 -1.9844607401847079 and the error is 0.34357187586771043\n",
      "41\n",
      "The solution to the problem is: -1.2449176771145685 -3.6002999435559717 -1.9844607401847079 and the error is 0.34357187586771043\n",
      "42\n",
      "The solution to the problem is: -1.2449176771145685 -3.6002999435559717 -1.9844607401847079 and the error is 0.34357187586771043\n",
      "43\n",
      "The solution to the problem is: -1.2449176771145685 -3.6002999435559717 -1.9844607401847079 and the error is 0.34357187586771043\n",
      "44\n",
      "The solution to the problem is: -1.2449176771145685 -3.6002999435559717 -1.9844607401847079 and the error is 0.34357187586771043\n",
      "45\n",
      "The solution to the problem is: -1.2449176771145685 -3.6002999435559717 -1.9844607401847079 and the error is 0.34357187586771043\n",
      "46\n",
      "The solution to the problem is: -1.2449176771145685 -3.6002999435559717 -1.9844607401847079 and the error is 0.34357187586771043\n",
      "47\n",
      "The solution to the problem is: -1.2449176771145685 -3.6002999435559717 -1.9844607401847079 and the error is 0.34357187586771043\n",
      "48\n",
      "The solution to the problem is: -1.2449176771145685 -3.6002999435559717 -1.9844607401847079 and the error is 0.34357187586771043\n",
      "49\n",
      "The solution to the problem is: -1.2449176771145685 -3.6002999435559717 -1.9844607401847079 and the error is 0.34357187586771043\n"
     ]
    },
    {
     "data": {
      "image/png": "[encoded data removed]",
      "text/plain": [
       "<Figure size 432x288 with 1 Axes>"
      ]
     },
     "metadata": {
      "needs_background": "light"
     },
     "output_type": "display_data"
    },
    {
     "data": {
      "image/png": "[encoded data removed]",
      "text/plain": [
       "<Figure size 432x288 with 1 Axes>"
      ]
     },
     "metadata": {
      "needs_background": "light"
     },
     "output_type": "display_data"
    }
   ],
   "source": [
    "problem_boundary=[2,4,2]\n",
    "sub_chromosome_length = 10\n",
    "crossovers=5\n",
    "population_size = 40\n",
    "maximum_generation = 50\n",
    "best_score_progress = []\n",
    "parameters=3\n",
    "mutation_rate = 0.5\n",
    "mutation_per_chromosome=5\n",
    "chromosome_length=parameters*sub_chromosome_length\n",
    "\n",
    "population = create_population(population_size, parameters, sub_chromosome_length,problem_boundary)\n",
    "population_with_fitness= calculate_fitness(population,sub_chromosome_length)\n",
    "population_sorted=sort_population(population_with_fitness,population_size)\n",
    "\n",
    "best_score = population_sorted[0,0]\n",
    "best_score_progress.append(best_score)\n",
    "population_with_fitness=[]\n",
    "\n",
    "\n",
    "for generation in range(maximum_generation):\n",
    "    \n",
    "    population=population_generator(population_sorted,population_size,mutation_rate,crossovers,mutation_per_chromosome)\n",
    "    population_checked=boundary_checker(population,parameters,sub_chromosome_length,problem_boundary)\n",
    "    population_with_fitness= calculate_fitness(population_checked,sub_chromosome_length)\n",
    "    population_sorted=sort_population(population_with_fitness,population_size)\n",
    "\n",
    "    best_score = population_sorted[0,0]\n",
    "    best_score_progress.append(best_score)\n",
    "    \n",
    "    print(generation)\n",
    "    Champ=population_sorted[0]\n",
    "    Champ_X,Champ_Y,Champ_Z,Champ_W,Champ_yout,Champ_Time=chromosome_to_result(Champ,sub_chromosome_length)\n",
    "    print('The solution to the problem is:', Champ_X,Champ_Y,Champ_Z,'and the error is',Champ_W)\n",
    "\n",
    "Plot_Error_Per_Generation(best_score_progress)\n",
    "Result_Plotter(Champ_Time,Champ_yout)"
   ]
  },
  {
   "cell_type": "code",
   "execution_count": 19,
   "metadata": {},
   "outputs": [
    {
     "data": {
      "image/png": "[encoded data removed]",
      "text/plain": [
       "<Figure size 432x288 with 1 Axes>"
      ]
     },
     "metadata": {
      "needs_background": "light"
     },
     "output_type": "display_data"
    }
   ],
   "source": [
    "plt.plot(best_score_progress,'k')\n",
    "plt.xlabel('Generations',fontsize=12)\n",
    "plt.ylabel('Lowest error',fontsize=12)\n",
    "plt.title('Optimization by GA algorithm',fontsize=14)\n",
    "plt.savefig(\"Optimization by GA algorithm.png\")\n",
    "plt.show()"
   ]
  },
  {
   "cell_type": "code",
   "execution_count": 20,
   "metadata": {},
   "outputs": [
    {
     "data": {
      "image/png": "[encoded data removed]",
      "text/plain": [
       "<Figure size 432x288 with 1 Axes>"
      ]
     },
     "metadata": {
      "needs_background": "light"
     },
     "output_type": "display_data"
    }
   ],
   "source": [
    "plt.plot(Champ_Time,Champ_yout,'k')\n",
    "plt.xlabel('Time [hours]',fontsize=12)\n",
    "plt.ylabel('Amplitude',fontsize=12)\n",
    "plt.title('Step response for Bio-plant controller',fontsize=14)\n",
    "plt.savefig(\"Response by GA algorithm.png\")\n",
    "plt.show()"
   ]
  }
 ],
 "metadata": {
  "kernelspec": {
   "display_name": "Python 3.7 (tensorflow)",
   "language": "python",
   "name": "tensorflow"
  },
  "language_info": {
   "codemirror_mode": {
    "name": "ipython",
    "version": 3
   },
   "file_extension": ".py",
   "mimetype": "text/x-python",
   "name": "python",
   "nbconvert_exporter": "python",
   "pygments_lexer": "ipython3",
   "version": "3.6.10"
  }
 },
 "nbformat": 4,
 "nbformat_minor": 2
}
