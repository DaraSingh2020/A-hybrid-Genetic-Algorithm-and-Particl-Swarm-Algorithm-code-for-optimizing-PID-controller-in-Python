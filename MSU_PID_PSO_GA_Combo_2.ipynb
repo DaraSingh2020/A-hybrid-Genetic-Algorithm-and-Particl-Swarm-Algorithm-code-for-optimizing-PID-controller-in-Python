{
 "cells": [
  {
   "cell_type": "code",
   "execution_count": 1,
   "metadata": {},
   "outputs": [],
   "source": [
    "import IPython as IP\n",
    "IP.get_ipython().magic('reset -sf')\n",
    "import numpy as np\n",
    "import time as time\n",
    "import matplotlib.pyplot as plt\n",
    "import matplotlib as mpl\n",
    "plt.close('all')\n",
    "import control\n",
    "from control import *"
   ]
  },
  {
   "cell_type": "code",
   "execution_count": 2,
   "metadata": {},
   "outputs": [],
   "source": [
    "def BioPlant_GR_TF():\n",
    "    A_gr=[[0,-0.068],[-0.75,-0.1302]]\n",
    "    B_gr=[[-0.9951],[2.4878]]\n",
    "    C_gr=[1,0]\n",
    "    D_gr=[0]\n",
    "    TF_gr=control.ss2tf(A_gr, B_gr, C_gr, D_gr)\n",
    "    return TF_gr"
   ]
  },
  {
   "cell_type": "code",
   "execution_count": 3,
   "metadata": {},
   "outputs": [],
   "source": [
    "def BioPlant_ST_TF():\n",
    "    A_st=[[0, 0.9056], [-0.75, -2.564]]\n",
    "    B_st=[[-1.5301],[3.8255]]\n",
    "    C_st=[1,0]\n",
    "    D_st=[0]\n",
    "    TF_st=control.ss2tf(A_st, B_st, C_st, D_st)\n",
    "    return TF_st"
   ]
  },
  {
   "cell_type": "code",
   "execution_count": 4,
   "metadata": {},
   "outputs": [],
   "source": [
    "def Result_Plotter(Time,yout):\n",
    "    plt.plot(Time, yout)\n",
    "    plt.xlabel('Time [s]')\n",
    "    plt.ylabel('Amplitude')\n",
    "    plt.title('Step response for BioPlant controller')\n",
    "    plt.grid()"
   ]
  },
  {
   "cell_type": "code",
   "execution_count": 5,
   "metadata": {},
   "outputs": [],
   "source": [
    "def PID_TF_Generator(D,P,I):\n",
    "    PID_Num=[D,P,I]\n",
    "    PID_Den=[1,0]\n",
    "    PID_TF=control.tf(PID_Num,PID_Den)\n",
    "    return PID_TF"
   ]
  },
  {
   "cell_type": "code",
   "execution_count": 6,
   "metadata": {},
   "outputs": [],
   "source": [
    "def PID_Plant_Response(PID_TF,TF_gr):\n",
    "    FeedBack = feedback(PID_TF*TF_gr,1)\n",
    "    Time=list(np.arange(0,40,0.1))\n",
    "    Time, yout = control.step_response(sys=FeedBack,T=Time,X0=0)\n",
    "    return Time,yout"
   ]
  },
  {
   "cell_type": "code",
   "execution_count": 7,
   "metadata": {},
   "outputs": [],
   "source": [
    "def BioPlant_Error_Generator(D,P,I):\n",
    "    TF_gr=BioPlant_GR_TF()\n",
    "    w1=5\n",
    "    w2=5\n",
    "    w3=0\n",
    "    w4=1\n",
    "    w5=4\n",
    "    w6=0\n",
    "\n",
    "    PID_TF=PID_TF_Generator(D,P,I)\n",
    "    Time,yout=PID_Plant_Response(PID_TF,TF_gr)\n",
    "\n",
    "    Yout_np=np.array(yout.copy())\n",
    "    Error=1-Yout_np\n",
    "    Absolute_Error=np.abs(Error)\n",
    "    Square_Error=Error**2\n",
    "    Overshoot=np.max(Yout_np)-1\n",
    "\n",
    "    Overshoot_Index=np.where(Yout_np==(1+Overshoot))[0]\n",
    "    Overshoot_location=np.argmax(yout)/10\n",
    "    #Sliced_Square_Error=Square_Error[:Overshoot_Index[0]]\n",
    "    #Rise_Time_Index=np.where(Sliced_Square_Error==(np.min(Sliced_Square_Error)))\n",
    "    \n",
    "    #Rise_Time=Time[Rise_Time_Index][0]\n",
    "    Rise_Time=0\n",
    "    IAE = np.trapz(Absolute_Error, dx=0.01)\n",
    "    ISE = np.trapz(Square_Error, dx=0.01)\n",
    "    ITAE = np.trapz((Time*Absolute_Error), dx=0.01)\n",
    "    ITSE = np.trapz((Time*Square_Error), dx=0.01)\n",
    "\n",
    "    W=w1*IAE+w2*ISE+w3*ITAE+w4*ITSE+w5*Rise_Time+w6*Overshoot\n",
    "    return W,yout,Time,IAE,ISE,ITAE,ITSE,Rise_Time,Overshoot"
   ]
  },
  {
   "cell_type": "code",
   "execution_count": 8,
   "metadata": {},
   "outputs": [],
   "source": [
    "def Particle_Initial_Vel_Pos(swarm_size,dimensions,problem_boundary):\n",
    "    particle_location = (np.random.rand(swarm_size,dimensions)-0.5)*problem_boundary*2   \n",
    "    particle_velocity = np.random.rand(swarm_size,dimensions)\n",
    "    return  particle_location,particle_velocity"
   ]
  },
  {
   "cell_type": "code",
   "execution_count": 9,
   "metadata": {},
   "outputs": [],
   "source": [
    "def Particle_best_params(particle_location):    \n",
    "    Particle_X=particle_location[:,0]\n",
    "    Particle_Y=particle_location[:,1]\n",
    "    Particle_Z=particle_location[:,2]\n",
    "    particle_best_value=[]\n",
    "    for particle in range(len(particle_location)):\n",
    "        particle_value,*_=BioPlant_Error_Generator(Particle_X[particle],Particle_Y[particle],Particle_Z[particle])\n",
    "        particle_best_value.append(particle_value)\n",
    "    particle_best_location = np.copy(particle_location)\n",
    "        \n",
    "    return particle_best_value,particle_best_location"
   ]
  },
  {
   "cell_type": "code",
   "execution_count": 10,
   "metadata": {},
   "outputs": [],
   "source": [
    "def Global_best(particle_best_value):\n",
    "    PSO_best_value = np.min(particle_best_value)\n",
    "    PSO_best_location = particle_location[np.argmin(particle_best_value)].copy()\n",
    "    return PSO_best_value,PSO_best_location"
   ]
  },
  {
   "cell_type": "code",
   "execution_count": 11,
   "metadata": {},
   "outputs": [],
   "source": [
    "def create_population(population_size, parameters, sub_chromosome_length,problem_boundary):\n",
    "\n",
    "    \n",
    "    population_sub1_ = np.random.uniform(-problem_boundary[0], problem_boundary[0], size=(population_size, 1))\n",
    "    population_sub2_ = np.random.uniform(-problem_boundary[1], problem_boundary[1], size=(population_size, 1))\n",
    "    population_sub3_ = np.random.uniform(-problem_boundary[2], problem_boundary[2], size=(population_size, 1))\n",
    "    sub_chromosome_matrix=np.ones((population_size,sub_chromosome_length))/sub_chromosome_length\n",
    "    \n",
    "    population_sub1=population_sub1_*sub_chromosome_matrix\n",
    "    population_sub2=population_sub2_*sub_chromosome_matrix\n",
    "    population_sub3=population_sub3_*sub_chromosome_matrix\n",
    "    \n",
    "    population_sub12=np.hstack((population_sub1,population_sub2))\n",
    "    population=np.hstack((population_sub12,population_sub3))\n",
    "\n",
    "\n",
    "    return population"
   ]
  },
  {
   "cell_type": "code",
   "execution_count": 12,
   "metadata": {},
   "outputs": [],
   "source": [
    "def boundary_checker(population,parameters,sub_chromosome_length,problem_boundary):\n",
    "\n",
    "    Feature1=population[:,0:sub_chromosome_length]\n",
    "    Feature2=population[:,sub_chromosome_length:2*sub_chromosome_length]\n",
    "    Feature3=population[:,2*sub_chromosome_length:]\n",
    "    Initial_Length=len(population)\n",
    "\n",
    "    \n",
    "    P=np.sum(Feature1,keepdims=True,axis=1)\n",
    "    maskP=np.abs(P)>problem_boundary[0]\n",
    "    D=np.sum(Feature2,keepdims=True,axis=1)\n",
    "    maskD=np.abs(D)>problem_boundary[1]\n",
    "    I=np.sum(Feature3,keepdims=True,axis=1)\n",
    "    maskI=np.abs(I)>problem_boundary[2]\n",
    "    maskPD=np.hstack((maskP,maskD))\n",
    "    maskPDI=np.hstack((maskPD,maskI))\n",
    "    \n",
    "    \n",
    "    mask=np.invert(np.any(maskPDI,axis=1))\n",
    "    population_checked=population[mask]\n",
    "\n",
    "    return population_checked"
   ]
  },
  {
   "cell_type": "code",
   "execution_count": 13,
   "metadata": {
    "scrolled": true
   },
   "outputs": [],
   "source": [
    "def calculate_fitness(population_checked,sub_chromosome_length):\n",
    "    \n",
    "    Feature1=population_checked[:,0:sub_chromosome_length]\n",
    "    Feature2=population_checked[:,sub_chromosome_length:2*sub_chromosome_length]\n",
    "    Feature3=population_checked[:,2*sub_chromosome_length:]\n",
    "\n",
    "    X=(np.sum(Feature1,axis=1)).tolist()\n",
    "    Y=(np.sum(Feature2,axis=1)).tolist()\n",
    "    Z=(np.sum(Feature3,axis=1)).tolist()\n",
    "\n",
    "    GA_Errors=[]\n",
    "    for ns in range(len(X)):\n",
    "        TTTT,*_=BioPlant_Error_Generator(X[ns],Y[ns],Z[ns])\n",
    "        GA_Errors.append(TTTT)\n",
    "    GA_Errors=np.reshape(GA_Errors,newshape=(np.shape(population_checked)[0],1))\n",
    "    population_with_fitness=np.hstack((GA_Errors,population_checked))\n",
    "        \n",
    "    return population_with_fitness"
   ]
  },
  {
   "cell_type": "code",
   "execution_count": 14,
   "metadata": {},
   "outputs": [],
   "source": [
    "def chromosome_to_result(Champ,sub_chromosome_length):\n",
    "    Champ1=Champ[1:]\n",
    "    Feature_1=Champ1[0:sub_chromosome_length]\n",
    "    Feature_2=Champ1[sub_chromosome_length:2*sub_chromosome_length]\n",
    "    Feature_3=Champ1[2*sub_chromosome_length:]\n",
    "\n",
    "    Champ_X=(np.sum(Feature_1)).tolist()\n",
    "    Champ_Y=(np.sum(Feature_2)).tolist()\n",
    "    Champ_Z=(np.sum(Feature_3)).tolist()\n",
    "    Champ_W,Champ_yout,Champ_Time,*_=BioPlant_Error_Generator(Champ_X,Champ_Y,Champ_Z)\n",
    "    \n",
    "    return Champ_X,Champ_Y,Champ_Z,Champ_W,Champ_yout,Champ_Time"
   ]
  },
  {
   "cell_type": "code",
   "execution_count": 15,
   "metadata": {},
   "outputs": [],
   "source": [
    "def sort_population(population_with_fitness,population_size):\n",
    "    population_sorted_=population_with_fitness[population_with_fitness[:,0].argsort()]\n",
    "    population_sorted=population_sorted_[:population_size]\n",
    "    return population_sorted"
   ]
  },
  {
   "cell_type": "code",
   "execution_count": 16,
   "metadata": {},
   "outputs": [],
   "source": [
    "def breed_by_crossover(parent_1, parent_2,crossovers):\n",
    "\n",
    "    chromosome_length = len(parent_1)-1\n",
    "    crossover_points = np.sort(np.random.choice(range(1,chromosome_length),size=crossovers,replace=False))\n",
    "    parents=[parent_1,parent_2]\n",
    "    j=0\n",
    "    k=1\n",
    "    for point in crossover_points:\n",
    "        \n",
    "        child1 = np.hstack((parents[0][0:point],parents[k][point:]))\n",
    "        child2 = np.hstack((parents[1][0:point],parents[j][point:]))\n",
    "        parents[0]=child1.copy()\n",
    "        parents[1]=child2.copy()\n",
    "        j,k=k,j\n",
    "    children=np.vstack((parents[0],parents[1]))\n",
    "    \n",
    "    return children"
   ]
  },
  {
   "cell_type": "code",
   "execution_count": 17,
   "metadata": {},
   "outputs": [],
   "source": [
    "def population_generator(population_sorted,population_size,mutation_rate,crossovers,mutation_per_chromosome):\n",
    "    \n",
    "    quarter_size=int(population_size/4)\n",
    "    selected_index=np.random.permutation(2*quarter_size)\n",
    "    parent_one_list=selected_index[0:quarter_size]\n",
    "    parent_two_list=selected_index[quarter_size:]\n",
    "    population_no_score=np.delete(population_sorted,0,axis=1)\n",
    "    population_for_breeding=population_no_score[:2*quarter_size]\n",
    "\n",
    "    for i in range(quarter_size):\n",
    "        parent_1=population_for_breeding[parent_one_list[i],:]\n",
    "        parent_2=population_for_breeding[parent_two_list[i],:]\n",
    "        children=breed_by_crossover(parent_1, parent_2,crossovers)\n",
    "        population_for_breeding=np.vstack((population_for_breeding,children))\n",
    "\n",
    "    population_for_mutation=population_for_breeding.copy()\n",
    "    population_after_mutation=randomly_mutate_population(population_for_mutation, mutation_rate,mutation_per_chromosome)\n",
    "    population=population_after_mutation.copy()\n",
    "    return population"
   ]
  },
  {
   "cell_type": "code",
   "execution_count": 18,
   "metadata": {},
   "outputs": [],
   "source": [
    "def randomly_mutate_population(population_for_mutation, mutation_rate,mutation_per_chromosome):\n",
    "    \n",
    "    (people,chromosome_length)=np.shape(population_for_mutation)\n",
    "    keep=1\n",
    "    max_val=np.max(population_for_mutation)\n",
    "    min_val=np.min(population_for_mutation)\n",
    "    muts1=int(mutation_rate*people)\n",
    "    mutation_people=np.random.choice(range(keep,people-keep),size=muts1,replace=False)\n",
    "\n",
    "    for num in mutation_people:\n",
    "        mutant_genes=np.random.choice(range(0,chromosome_length),size=mutation_per_chromosome,replace=False)\n",
    "        for mutant_gene in mutant_genes:\n",
    "            population_for_mutation[num,mutant_gene]=np.random.uniform(min_val, max_val)\n",
    "    population_after_mutation=population_for_mutation.copy()\n",
    "    return population_after_mutation"
   ]
  },
  {
   "cell_type": "code",
   "execution_count": 19,
   "metadata": {},
   "outputs": [],
   "source": [
    "def Result_Plotter(Time,yout):\n",
    "    plt.plot(Time, yout)\n",
    "    plt.xlabel('Time [hours]')\n",
    "    plt.ylabel('Amplitude')\n",
    "    plt.title('Step response for Bio-plant controller')\n",
    "    plt.show()"
   ]
  },
  {
   "cell_type": "code",
   "execution_count": 20,
   "metadata": {},
   "outputs": [],
   "source": [
    "def result_to_chromosome(PSO_best_value,swarm_X,swarm_Y,swarm_Z,sub_chromosome_length):\n",
    "    tiny_sub_chromosome1=[(swarm_X/sub_chromosome_length) for i in range(sub_chromosome_length)]\n",
    "    tiny_sub_chromosome2=[(swarm_Y/sub_chromosome_length) for i in range(sub_chromosome_length)]\n",
    "    tiny_sub_chromosome3=[(swarm_Z/sub_chromosome_length) for i in range(sub_chromosome_length)]\n",
    "    swarm=[PSO_best_value]+tiny_sub_chromosome1+tiny_sub_chromosome2+tiny_sub_chromosome3\n",
    "    \n",
    "    return swarm"
   ]
  },
  {
   "cell_type": "code",
   "execution_count": 21,
   "metadata": {},
   "outputs": [],
   "source": [
    "def GA_Iterator(sub_chromosome_length,population_size,maximum_generation,problem_boundary,parameters,\\\n",
    "                mutation_rate,chromosome_length,population_sorted,mutation_per_chromosome):\n",
    "    for generation in range(maximum_generation):\n",
    "    \n",
    "        population=population_generator(population_sorted,population_size,mutation_rate,crossovers,mutation_per_chromosome)\n",
    "        population_checked=boundary_checker(population,parameters,sub_chromosome_length,problem_boundary)\n",
    "        population_with_fitness= calculate_fitness(population_checked,sub_chromosome_length)\n",
    "        population_sorted=sort_population(population_with_fitness,population_size)\n",
    "        \n",
    "        GA_best_score = population_sorted[0,0]\n",
    "        best_score_progress.append(GA_best_score)\n",
    "    \n",
    "        Champ=population_sorted[0]\n",
    "        X,Y,Z,*_=chromosome_to_result(Champ,sub_chromosome_length)\n",
    "\n",
    "    return X,Y,Z,GA_best_score,population_sorted,best_score_progress"
   ]
  },
  {
   "cell_type": "code",
   "execution_count": 22,
   "metadata": {},
   "outputs": [],
   "source": [
    "def PSO_Iterator(swarm_size,inertia,dimensions,local_weight,global_weight,max_velocity,step_size,problem_boundary,\\\n",
    "                particle_location,particle_velocity,particle_best_value,particle_best_location,\\\n",
    "                PSO_best_value,PSO_best_location):\n",
    "    \n",
    "    for particle_i in range(swarm_size): \n",
    "        for dimension_i in range(dimensions): \n",
    "            u = np.random.rand(dimensions) \n",
    "            error_particle_best = particle_best_location[particle_i,dimension_i]-particle_location[particle_i,dimension_i]\n",
    "            error_global_best = PSO_best_location[dimension_i]-particle_location[particle_i,dimension_i]            \n",
    "            v_new = inertia*particle_velocity[particle_i,dimension_i] +local_weight*u[0]*error_particle_best +\\\n",
    "            global_weight*u[1]*error_global_best\n",
    "      \n",
    "            if v_new < -max_velocity:\n",
    "                v_new = -max_velocity\n",
    "            elif v_new > max_velocity:\n",
    "                v_new = max_velocity\n",
    "\n",
    "            \n",
    "            l_new = particle_location[particle_i,dimension_i] + v_new*step_size\n",
    "            \n",
    "            if l_new < -problem_boundary[dimension_i]:\n",
    "                l_new= -problem_boundary[dimension_i]\n",
    "            elif l_new > problem_boundary[dimension_i]:\n",
    "                l_new = problem_boundary[dimension_i]\n",
    "                \n",
    "            particle_location[particle_i,dimension_i] = l_new\n",
    "            particle_velocity[particle_i,dimension_i] = v_new\n",
    "        \n",
    "\n",
    "            v,*_= BioPlant_Error_Generator(particle_location[particle_i,0],particle_location[particle_i,1],\\\n",
    "                                        particle_location[particle_i,2])\n",
    "\n",
    "            if v < particle_best_value[particle_i]: \n",
    "                particle_best_value[particle_i]=v\n",
    "                particle_best_location[particle_i,:] = particle_location[particle_i,:].copy()\n",
    "\n",
    "            if v < PSO_best_value:\n",
    "                PSO_best_value=v\n",
    "                PSO_best_location = particle_location[particle_i,:].copy()\n",
    "    return  particle_location,particle_velocity,particle_best_value,particle_best_location,PSO_best_value,\\\n",
    "            PSO_best_location,v\n"
   ]
  },
  {
   "cell_type": "code",
   "execution_count": 23,
   "metadata": {},
   "outputs": [],
   "source": [
    "def see_if_PSO_needs_update(X,Y,Z,GA_best_score,PSO_best_location,PSO_best_value):\n",
    "    if (GA_best_score<PSO_best_value):\n",
    "        PSO_best_location[0]=X\n",
    "        PSO_best_location[1]=Y\n",
    "        PSO_best_location[2]=Z\n",
    "        PSO_best_value,*_=BioPlant_Error_Generator(X,Y,Z)\n",
    "    return PSO_best_location,PSO_best_value"
   ]
  },
  {
   "cell_type": "code",
   "execution_count": 24,
   "metadata": {},
   "outputs": [],
   "source": [
    "def see_if_GA_needs_update(population_sorted,GA_best_score,PSO_best_location,PSO_best_value):\n",
    "    if (PSO_best_value<GA_best_score):\n",
    "        swarm_X=PSO_best_location[0].copy()\n",
    "        swarm_Y=PSO_best_location[1].copy()\n",
    "        swarm_Z=PSO_best_location[2].copy()\n",
    "        swarm=[result_to_chromosome(PSO_best_value,swarm_X,swarm_Y,swarm_Z,sub_chromosome_length)]\n",
    "        population_sorted=np.vstack((swarm,population_sorted))\n",
    "        \n",
    "    return population_sorted"
   ]
  },
  {
   "cell_type": "code",
   "execution_count": 25,
   "metadata": {},
   "outputs": [],
   "source": [
    "def Plot_Error_Per_Generation(best_score_progress):\n",
    "    plt.plot(best_score_progress)\n",
    "    plt.xlabel('Generation')\n",
    "    plt.ylabel('Lowest error')\n",
    "    plt.show()"
   ]
  },
  {
   "cell_type": "code",
   "execution_count": 26,
   "metadata": {
    "scrolled": true
   },
   "outputs": [
    {
     "name": "stderr",
     "output_type": "stream",
     "text": [
      "C:\\Users\\Dara\\Anaconda3\\envs\\tensorflow\\lib\\site-packages\\ipykernel_launcher.py:16: RuntimeWarning: overflow encountered in square\n",
      "  app.launch_new_instance()\n",
      "C:\\Users\\Dara\\Anaconda3\\envs\\tensorflow\\lib\\site-packages\\ipykernel_launcher.py:29: RuntimeWarning: overflow encountered in multiply\n",
      "C:\\Users\\Dara\\Anaconda3\\envs\\tensorflow\\lib\\site-packages\\ipykernel_launcher.py:28: RuntimeWarning: overflow encountered in multiply\n"
     ]
    },
    {
     "name": "stdout",
     "output_type": "stream",
     "text": [
      "solution at x=-1.54, y=-3.72 z=-1.55\n",
      "global_best value is 0.2635525167997862\n"
     ]
    },
    {
     "name": "stderr",
     "output_type": "stream",
     "text": [
      "C:\\Users\\Dara\\Anaconda3\\envs\\tensorflow\\lib\\site-packages\\numpy\\lib\\function_base.py:4062: RuntimeWarning: overflow encountered in add\n",
      "  ret = (d * (y[tuple(slice1)] + y[tuple(slice2)]) / 2.0).sum(axis)\n",
      "C:\\Users\\Dara\\Anaconda3\\envs\\tensorflow\\lib\\site-packages\\ipykernel_launcher.py:31: RuntimeWarning: invalid value encountered in double_scalars\n"
     ]
    },
    {
     "name": "stdout",
     "output_type": "stream",
     "text": [
      "solution at x=-1.54, y=-3.72 z=-1.55\n",
      "global_best value is 0.2635525167997862\n",
      "solution at x=-1.54, y=-3.72 z=-1.55\n",
      "global_best value is 0.2635525167997862\n",
      "solution at x=-1.54, y=-3.72 z=-1.55\n",
      "global_best value is 0.2635525167997862\n",
      "solution at x=-1.54, y=-3.72 z=-1.55\n",
      "global_best value is 0.2635525167997862\n",
      "solution at x=-1.54, y=-3.72 z=-1.55\n",
      "global_best value is 0.2635525167997862\n",
      "solution at x=-1.54, y=-3.72 z=-1.55\n",
      "global_best value is 0.2635525167997862\n",
      "solution at x=-1.54, y=-3.72 z=-1.55\n",
      "global_best value is 0.2635525167997862\n",
      "solution at x=-1.55, y=-3.78 z=-1.55\n",
      "global_best value is 0.2606556331009861\n",
      "solution at x=-1.57, y=-3.81 z=-1.55\n",
      "global_best value is 0.25916414563842816\n",
      "solution at x=-1.57, y=-3.82 z=-1.55\n",
      "global_best value is 0.2584275534092892\n",
      "solution at x=-1.85, y=-3.80 z=-1.76\n",
      "global_best value is 0.2452304436057012\n",
      "solution at x=-1.71, y=-3.88 z=-1.77\n",
      "global_best value is 0.24388106043671706\n",
      "solution at x=-1.82, y=-3.93 z=-1.75\n",
      "global_best value is 0.2399120362395477\n",
      "solution at x=-1.85, y=-3.95 z=-1.85\n",
      "global_best value is 0.23560599683041344\n",
      "solution at x=-1.86, y=-3.96 z=-1.90\n",
      "global_best value is 0.23368656131163287\n",
      "solution at x=-1.87, y=-3.97 z=-1.94\n",
      "global_best value is 0.2321780020401461\n",
      "solution at x=-1.86, y=-3.98 z=-2.00\n",
      "global_best value is 0.23028883908973868\n",
      "solution at x=-1.87, y=-3.99 z=-2.00\n",
      "global_best value is 0.229926149825929\n",
      "solution at x=-1.87, y=-4.00 z=-2.00\n",
      "global_best value is 0.229264123274378\n",
      "solution at x=-1.90, y=-4.00 z=-2.00\n",
      "global_best value is 0.22881753340434546\n",
      "solution at x=-1.92, y=-4.00 z=-2.00\n",
      "global_best value is 0.2284183761360039\n",
      "solution at x=-1.96, y=-4.00 z=-2.00\n",
      "global_best value is 0.2277888719625757\n",
      "solution at x=-2.00, y=-4.00 z=-2.00\n",
      "global_best value is 0.22724599039524104\n",
      "solution at x=-2.00, y=-4.00 z=-2.00\n",
      "global_best value is 0.22723826997592567\n",
      "solution at x=-2.00, y=-4.00 z=-2.00\n",
      "global_best value is 0.22723826997592567\n",
      "solution at x=-2.00, y=-4.00 z=-2.00\n",
      "global_best value is 0.22723826997592567\n",
      "solution at x=-2.00, y=-4.00 z=-2.00\n",
      "global_best value is 0.22723826997592567\n",
      "solution at x=-2.00, y=-4.00 z=-2.00\n",
      "global_best value is 0.22723826997592567\n",
      "solution at x=-2.00, y=-4.00 z=-2.00\n",
      "global_best value is 0.22723826997592567\n",
      "solution at x=-2.00, y=-4.00 z=-2.00\n",
      "global_best value is 0.22723826997592567\n",
      "solution at x=-2.00, y=-4.00 z=-2.00\n",
      "global_best value is 0.22723826997592567\n",
      "solution at x=-2.00, y=-4.00 z=-2.00\n",
      "global_best value is 0.22723826997592567\n",
      "solution at x=-2.00, y=-4.00 z=-2.00\n",
      "global_best value is 0.22723826997592567\n",
      "solution at x=-2.00, y=-4.00 z=-2.00\n",
      "global_best value is 0.22723826997592567\n",
      "solution at x=-2.00, y=-4.00 z=-2.00\n",
      "global_best value is 0.22723826997592567\n",
      "solution at x=-2.00, y=-4.00 z=-2.00\n",
      "global_best value is 0.22723826997592567\n",
      "solution at x=-2.00, y=-4.00 z=-2.00\n",
      "global_best value is 0.22723826997592567\n",
      "solution at x=-2.00, y=-4.00 z=-2.00\n",
      "global_best value is 0.22723826997592567\n",
      "solution at x=-2.00, y=-4.00 z=-2.00\n",
      "global_best value is 0.22723826997592567\n",
      "solution at x=-2.00, y=-4.00 z=-2.00\n",
      "global_best value is 0.22723826997592567\n",
      "solution at x=-2.00, y=-4.00 z=-2.00\n",
      "global_best value is 0.22723826997592567\n",
      "solution at x=-2.00, y=-4.00 z=-2.00\n",
      "global_best value is 0.22723826997592567\n",
      "solution at x=-2.00, y=-4.00 z=-2.00\n",
      "global_best value is 0.22723826997592567\n",
      "solution at x=-2.00, y=-4.00 z=-2.00\n",
      "global_best value is 0.22723826997592567\n",
      "solution at x=-2.00, y=-4.00 z=-2.00\n",
      "global_best value is 0.22723826997592567\n",
      "solution at x=-2.00, y=-4.00 z=-2.00\n",
      "global_best value is 0.22723826997592567\n",
      "solution at x=-2.00, y=-4.00 z=-2.00\n",
      "global_best value is 0.22723826997592567\n",
      "solution at x=-2.00, y=-4.00 z=-2.00\n",
      "global_best value is 0.22723826997592567\n",
      "solution at x=-2.00, y=-4.00 z=-2.00\n",
      "global_best value is 0.22723826997592567\n"
     ]
    },
    {
     "data": {
      "image/png": "[encoded data removed]",
      "text/plain": [
       "<Figure size 432x288 with 1 Axes>"
      ]
     },
     "metadata": {
      "needs_background": "light"
     },
     "output_type": "display_data"
    },
    {
     "data": {
      "image/png": "[encoded data removed]",
      "text/plain": [
       "<Figure size 432x288 with 1 Axes>"
      ]
     },
     "metadata": {
      "needs_background": "light"
     },
     "output_type": "display_data"
    }
   ],
   "source": [
    "################################################   Hybrid Parameters      ##############################################\n",
    "Combo_Iteration=50\n",
    "problem_boundary=[2,4,2]\n",
    "################################################   Hybrid Parameters      ##############################################\n",
    "\n",
    "\n",
    "\n",
    "###########################    Particle Swarm Optimization Initialization Block      ###############################\n",
    "\n",
    "swarm_size = 40                   \n",
    "PSO_iterations = 1            \n",
    "inertia = 0.5                    \n",
    "dimensions = 3                   \n",
    "local_weight = 2                  \n",
    "global_weight =  2                 \n",
    "max_velocity = 0.1                   \n",
    "step_size = 1          \n",
    "\n",
    "Track_keeper_Combo=[]\n",
    "\n",
    "particle_location,particle_velocity=Particle_Initial_Vel_Pos(swarm_size,dimensions,problem_boundary)\n",
    "particle_best_value,particle_best_location=Particle_best_params(particle_location)\n",
    "PSO_best_value,PSO_best_location=Global_best(particle_best_value)\n",
    "           \n",
    "\n",
    "###########################    Particle Swarm Optimization Initialization Block      ###############################\n",
    "\n",
    "\n",
    "################################    Genetic Algorithm Initialization Block      ####################################\n",
    "\n",
    "sub_chromosome_length = 10\n",
    "crossovers=5\n",
    "population_size = 40\n",
    "maximum_generation = 1\n",
    "best_score_progress = []\n",
    "parameters=3\n",
    "chromosome_length=parameters*sub_chromosome_length\n",
    "mutation_rate=0.05\n",
    "mutation_per_chromosome=5\n",
    "\n",
    "population = create_population(population_size, parameters, sub_chromosome_length,problem_boundary)\n",
    "population_with_fitness= calculate_fitness(population,sub_chromosome_length)\n",
    "population_sorted=sort_population(population_with_fitness,population_size)\n",
    "\n",
    "GA_best_score = population_sorted[0,0]\n",
    "best_score_progress.append(GA_best_score)\n",
    "#population_with_fitness=[]\n",
    "\n",
    "\n",
    "################################    Genetic Algorithm Initialization Block      ####################################\n",
    "\n",
    "\n",
    "#####################################    Main PSO Body With Embeded GA     #########################################\n",
    "for iteration_i in range(Combo_Iteration):\n",
    "    \n",
    "    X,Y,Z,GA_best_score,population_sorted,best_score_progress=GA_Iterator(sub_chromosome_length,population_size,\\\n",
    "                                                                          maximum_generation,problem_boundary,\\\n",
    "                                                                          parameters,mutation_rate,chromosome_length,\\\n",
    "                                                                          population_sorted,mutation_per_chromosome)\n",
    "    \n",
    "\n",
    "    PSO_best_location,PSO_best_value=see_if_PSO_needs_update(X,Y,Z,GA_best_score,PSO_best_location,PSO_best_value)\n",
    "    \n",
    "    particle_location,particle_velocity,particle_best_value,particle_best_location,PSO_best_value,PSO_best_location,\\\n",
    "    v=PSO_Iterator(swarm_size,inertia,dimensions,local_weight,global_weight,max_velocity,step_size,problem_boundary,\\\n",
    "                particle_location,particle_velocity,particle_best_value,particle_best_location,\\\n",
    "                PSO_best_value,PSO_best_location)\n",
    "    \n",
    "    population_sorted=see_if_GA_needs_update(population_sorted,GA_best_score,PSO_best_location,PSO_best_value)\n",
    "\n",
    "    \n",
    "    print('solution at x='+'%.2f' % PSO_best_location[0]+', y='+'%.2f' % PSO_best_location[1],\\\n",
    "         'z='+'%.2f' % PSO_best_location[2])\n",
    "    print('global_best value is',PSO_best_value)\n",
    "    Best_values_Combo=[iteration_i,PSO_best_location[0].copy(),PSO_best_location[1].copy(),PSO_best_location[2].copy()]\n",
    "    Track_keeper_Combo.append(Best_values_Combo)\n",
    "\n",
    "    \n",
    "    \n",
    "#####################################    Main PSO Body With Embeded GA     #########################################    \n",
    "\n",
    "    \n",
    "Plot_Error_Per_Generation(best_score_progress)\n",
    "X_Combo=PSO_best_location[0]\n",
    "Y_Combo=PSO_best_location[1]\n",
    "Z_Combo=PSO_best_location[2]\n",
    "W_Champ,yout_Champ,Time_Champ,IAE,ISE,ITAE,ITSE,Rise_Time,Overshoot=BioPlant_Error_Generator(X_Combo,X_Combo,X_Combo)\n",
    "Result_Plotter(Time_Champ,yout_Champ)"
   ]
  },
  {
   "cell_type": "code",
   "execution_count": 33,
   "metadata": {
    "scrolled": true
   },
   "outputs": [
    {
     "data": {
      "image/png": "[encoded data removed]",
      "text/plain": [
       "<Figure size 432x288 with 1 Axes>"
      ]
     },
     "metadata": {
      "needs_background": "light"
     },
     "output_type": "display_data"
    }
   ],
   "source": [
    "plt.plot(best_score_progress,'k')\n",
    "plt.xlabel('Generations',fontsize=12)\n",
    "plt.ylabel('Lowest error',fontsize=12)\n",
    "plt.title('Optimization by PSO-GA hybrid algorithm',fontsize=14)\n",
    "plt.savefig(\"Optimization by PSO-GA hybrid algorithm.png\")\n",
    "plt.show()"
   ]
  },
  {
   "cell_type": "code",
   "execution_count": 36,
   "metadata": {
    "scrolled": true
   },
   "outputs": [
    {
     "data": {
      "image/png": "[encoded data removed]",
      "text/plain": [
       "<Figure size 432x288 with 1 Axes>"
      ]
     },
     "metadata": {
      "needs_background": "light"
     },
     "output_type": "display_data"
    }
   ],
   "source": [
    "plt.plot(Time_Champ,yout_Champ,'k')\n",
    "plt.xlabel('Time [hours]',fontsize=12)\n",
    "plt.ylabel('Amplitude',fontsize=12)\n",
    "plt.title('Step response for Bio-plant controller',fontsize=14)\n",
    "plt.savefig(\"Response by PSO-GA hybrid algorithm.png\")\n",
    "plt.show()"
   ]
  },
  {
   "cell_type": "code",
   "execution_count": 1,
   "metadata": {},
   "outputs": [
    {
     "ename": "NameError",
     "evalue": "name 'best_score_progress' is not defined",
     "output_type": "error",
     "traceback": [
      "\u001b[1;31m---------------------------------------------------------------------------\u001b[0m",
      "\u001b[1;31mNameError\u001b[0m                                 Traceback (most recent call last)",
      "\u001b[1;32m<ipython-input-1-195dd11f2576>\u001b[0m in \u001b[0;36m<module>\u001b[1;34m\u001b[0m\n\u001b[1;32m----> 1\u001b[1;33m \u001b[0mprint\u001b[0m\u001b[1;33m(\u001b[0m\u001b[0mbest_score_progress\u001b[0m\u001b[1;33m)\u001b[0m\u001b[1;33m\u001b[0m\u001b[1;33m\u001b[0m\u001b[0m\n\u001b[0m",
      "\u001b[1;31mNameError\u001b[0m: name 'best_score_progress' is not defined"
     ]
    }
   ],
   "source": [
    "print(best_score_progress)"
   ]
  }
 ],
 "metadata": {
  "kernelspec": {
   "display_name": "Python 3.7 (tensorflow)",
   "language": "python",
   "name": "tensorflow"
  },
  "language_info": {
   "codemirror_mode": {
    "name": "ipython",
    "version": 3
   },
   "file_extension": ".py",
   "mimetype": "text/x-python",
   "name": "python",
   "nbconvert_exporter": "python",
   "pygments_lexer": "ipython3",
   "version": "3.6.10"
  }
 },
 "nbformat": 4,
 "nbformat_minor": 4
}
